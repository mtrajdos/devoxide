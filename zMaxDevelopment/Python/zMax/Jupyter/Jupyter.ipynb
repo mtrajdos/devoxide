{
 "cells": [
  {
   "cell_type": "code",
   "execution_count": 2,
   "id": "6b057b5b",
   "metadata": {},
   "outputs": [],
   "source": [
    "dataFormat = \"number_of_records x length_of_sequence x types_of_sequences\""
   ]
  },
  {
   "cell_type": "code",
   "execution_count": 3,
   "id": "e4d853ff",
   "metadata": {},
   "outputs": [],
   "source": [
    "numberOfRecords = 7372800"
   ]
  },
  {
   "cell_type": "code",
   "execution_count": 4,
   "id": "59341718",
   "metadata": {},
   "outputs": [],
   "source": [
    "typesOfSequences = 1"
   ]
  },
  {
   "cell_type": "code",
   "execution_count": 5,
   "id": "62fd9c66",
   "metadata": {},
   "outputs": [],
   "source": [
    "lengthOfSequence = 28800"
   ]
  },
  {
   "cell_type": "code",
   "execution_count": 6,
   "id": "812d9926",
   "metadata": {},
   "outputs": [],
   "source": [
    "import math\n"
   ]
  },
  {
   "cell_type": "code",
   "execution_count": 7,
   "id": "853a04a1",
   "metadata": {},
   "outputs": [],
   "source": [
    "import mne"
   ]
  },
  {
   "cell_type": "code",
   "execution_count": 8,
   "id": "db56443d",
   "metadata": {},
   "outputs": [],
   "source": [
    "    import tkinter as tk\n"
   ]
  },
  {
   "cell_type": "code",
   "execution_count": 9,
   "id": "f28060ac",
   "metadata": {},
   "outputs": [],
   "source": [
    "    from tkinter import filedialog\n"
   ]
  },
  {
   "cell_type": "code",
   "execution_count": 10,
   "id": "d3074f1b",
   "metadata": {},
   "outputs": [],
   "source": [
    "    from tkinter import ttk\n",
    "\n",
    "    "
   ]
  },
  {
   "cell_type": "code",
   "execution_count": 11,
   "id": "f0df19e0",
   "metadata": {},
   "outputs": [],
   "source": [
    "edf = filedialog.askopenfilename(filetypes=[(\"Edf Files\", \"*.edf\")])\n",
    "\n"
   ]
  },
  {
   "cell_type": "code",
   "execution_count": 12,
   "id": "3fe3ee87",
   "metadata": {},
   "outputs": [
    {
     "data": {
      "text/plain": [
       "'/home/dioxan/UvA/FinalResults/Michal/21-03-2022/21-03-2022.edf'"
      ]
     },
     "execution_count": 12,
     "metadata": {},
     "output_type": "execute_result"
    }
   ],
   "source": [
    "edf"
   ]
  }
 ],
 "metadata": {
  "kernelspec": {
   "display_name": "Python 3 (ipykernel)",
   "language": "python",
   "name": "python3"
  },
  "language_info": {
   "codemirror_mode": {
    "name": "ipython",
    "version": 3
   },
   "file_extension": ".py",
   "mimetype": "text/x-python",
   "name": "python",
   "nbconvert_exporter": "python",
   "pygments_lexer": "ipython3",
   "version": "3.8.10"
  }
 },
 "nbformat": 4,
 "nbformat_minor": 5
}
